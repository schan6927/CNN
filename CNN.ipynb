{
  "nbformat": 4,
  "nbformat_minor": 0,
  "metadata": {
    "colab": {
      "provenance": [],
      "toc_visible": true,
      "authorship_tag": "ABX9TyN/S5Y1hyJjC9KtX/RFuhdH",
      "include_colab_link": true
    },
    "kernelspec": {
      "name": "python3",
      "display_name": "Python 3"
    },
    "language_info": {
      "name": "python"
    }
  },
  "cells": [
    {
      "cell_type": "markdown",
      "metadata": {
        "id": "view-in-github",
        "colab_type": "text"
      },
      "source": [
        "<a href=\"https://colab.research.google.com/github/schan6927/CNN/blob/main/CNN.ipynb\" target=\"_parent\"><img src=\"https://colab.research.google.com/assets/colab-badge.svg\" alt=\"Open In Colab\"/></a>"
      ]
    },
    {
      "cell_type": "markdown",
      "source": [
        "# CNN"
      ],
      "metadata": {
        "id": "ThdFmjwB_Aj-"
      }
    },
    {
      "cell_type": "markdown",
      "source": [
        "convet have neurons arranged in 3 dimensions : width, height, depth (depth, here, means total number of layers in network)"
      ],
      "metadata": {
        "id": "cfZ7vzQs_Dr2"
      }
    },
    {
      "cell_type": "markdown",
      "source": [
        "A ConvNet is made up of Layers. Every Layer has a simple API: It transforms an input 3D volume to an output 3D volume with some differentiable function that may or may not have parameters."
      ],
      "metadata": {
        "id": "9TBgxR3GFpt4"
      }
    },
    {
      "cell_type": "markdown",
      "source": [
        "**The fundamental reason for using CNN** is for using **less parameter** relative to the input data."
      ],
      "metadata": {
        "id": "4xxJCuuPG0lH"
      }
    },
    {
      "cell_type": "markdown",
      "source": [
        "The number of parameter needed is, usually related to the number of filters, and the size of filter. (h * w * d) * n"
      ],
      "metadata": {
        "id": "q1hB0Y78kRcK"
      }
    },
    {
      "cell_type": "markdown",
      "source": [
        "Using the filter, we can yield a specific result we want"
      ],
      "metadata": {
        "id": "2889DzsxlQEU"
      }
    },
    {
      "cell_type": "markdown",
      "source": [
        "\n",
        "\n",
        "*   Padding\n"
      ],
      "metadata": {
        "id": "ARa1S5cJlQ55"
      }
    },
    {
      "cell_type": "markdown",
      "source": [
        "Padding is used for the edge. We can use appropriate number of padding to make the size of input and output same."
      ],
      "metadata": {
        "id": "tDrfrHgzllaJ"
      }
    },
    {
      "cell_type": "markdown",
      "source": [
        "\n",
        "\n",
        "*   Stride\n"
      ],
      "metadata": {
        "id": "0A6ngcQkllFV"
      }
    },
    {
      "cell_type": "markdown",
      "source": [
        "Stride is used for ?"
      ],
      "metadata": {
        "id": "srrvCEuvlkpB"
      }
    },
    {
      "cell_type": "markdown",
      "source": [
        "여러 층을 거쳐, 필터의 크기는 줄고, 필터의 수는 늘게 된다. 그리고 최종적으로는 필터의 크기에 필터의 수에 곱한 만큼의 기다란 벡터를 가지고, softmax 나 logistic에 넣어 최종 결과를 얻게 된다."
      ],
      "metadata": {
        "id": "novNrfkcmDtw"
      }
    },
    {
      "cell_type": "markdown",
      "source": [
        "Three types of convolutional network\n",
        "*   Convolution\n",
        "*   Pooling\n",
        "*   Fully Connected\n",
        "\n"
      ],
      "metadata": {
        "id": "kcILVkhAkicR"
      }
    },
    {
      "cell_type": "markdown",
      "source": [],
      "metadata": {
        "id": "Gf1zZL96sLfY"
      }
    },
    {
      "cell_type": "markdown",
      "source": [
        "# CNN Architecture"
      ],
      "metadata": {
        "id": "W9c4ouWN8ybp"
      }
    },
    {
      "cell_type": "markdown",
      "source": [],
      "metadata": {
        "id": "mzUmWB9D81_H"
      }
    }
  ]
}