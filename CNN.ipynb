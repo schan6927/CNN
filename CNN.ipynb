{
  "nbformat": 4,
  "nbformat_minor": 0,
  "metadata": {
    "colab": {
      "provenance": [],
      "authorship_tag": "ABX9TyPzqxi15qlADC110vOvgWWS",
      "include_colab_link": true
    },
    "kernelspec": {
      "name": "python3",
      "display_name": "Python 3"
    },
    "language_info": {
      "name": "python"
    }
  },
  "cells": [
    {
      "cell_type": "markdown",
      "metadata": {
        "id": "view-in-github",
        "colab_type": "text"
      },
      "source": [
        "<a href=\"https://colab.research.google.com/github/schan6927/CNN/blob/main/CNN.ipynb\" target=\"_parent\"><img src=\"https://colab.research.google.com/assets/colab-badge.svg\" alt=\"Open In Colab\"/></a>"
      ]
    },
    {
      "cell_type": "markdown",
      "source": [
        "# CNN"
      ],
      "metadata": {
        "id": "ThdFmjwB_Aj-"
      }
    },
    {
      "cell_type": "markdown",
      "source": [
        "convet have neurons arranged in 3 dimensions : width, height, depth (depth, here, means total number of layers in network)"
      ],
      "metadata": {
        "id": "cfZ7vzQs_Dr2"
      }
    },
    {
      "cell_type": "markdown",
      "source": [
        "A ConvNet is made up of Layers. Every Layer has a simple API: It transforms an input 3D volume to an output 3D volume with some differentiable function that may or may not have parameters."
      ],
      "metadata": {
        "id": "9TBgxR3GFpt4"
      }
    },
    {
      "cell_type": "markdown",
      "source": [
        "**The fundamental reason for using CNN** is for using **less parameter** relative to the input data."
      ],
      "metadata": {
        "id": "4xxJCuuPG0lH"
      }
    },
    {
      "cell_type": "markdown",
      "source": [
        "The number of parameter needed is, usually related to the number of filters, and the size of filter. (h * w * d) * n"
      ],
      "metadata": {
        "id": "q1hB0Y78kRcK"
      }
    },
    {
      "cell_type": "markdown",
      "source": [
        "Using the filter, we can yield a specific result we want"
      ],
      "metadata": {
        "id": "2889DzsxlQEU"
      }
    },
    {
      "cell_type": "markdown",
      "source": [
        "\n",
        "\n",
        "*   Padding\n"
      ],
      "metadata": {
        "id": "ARa1S5cJlQ55"
      }
    },
    {
      "cell_type": "markdown",
      "source": [
        "Padding is used for the edge. We can use appropriate number of padding to make the size of input and output same."
      ],
      "metadata": {
        "id": "tDrfrHgzllaJ"
      }
    },
    {
      "cell_type": "markdown",
      "source": [
        "\n",
        "\n",
        "*   Stride\n"
      ],
      "metadata": {
        "id": "0A6ngcQkllFV"
      }
    },
    {
      "cell_type": "markdown",
      "source": [
        "Stride is used for ?"
      ],
      "metadata": {
        "id": "srrvCEuvlkpB"
      }
    },
    {
      "cell_type": "markdown",
      "source": [
        "여러 층을 거쳐, 필터의 크기는 줄고, 필터의 수는 늘게 된다. 그리고 최종적으로는 필터의 크기에 필터의 수에 곱한 만큼의 기다란 벡터를 가지고, softmax 나 logistic에 넣어 최종 결과를 얻게 된다."
      ],
      "metadata": {
        "id": "novNrfkcmDtw"
      }
    },
    {
      "cell_type": "markdown",
      "source": [
        "Three types of convolutional network\n",
        "*   Convolution\n",
        "*   Pooling\n",
        "*   Fully Connected\n",
        "\n"
      ],
      "metadata": {
        "id": "kcILVkhAkicR"
      }
    },
    {
      "cell_type": "markdown",
      "source": [
        "CNN에서 볼 수 있는 패턴\n",
        "\n",
        "\n",
        "*   Conv\n",
        "*   Pool\n",
        "*   FC layer (Fully Connected)\n",
        "*   SoftMax\n",
        "\n"
      ],
      "metadata": {
        "id": "Gf1zZL96sLfY"
      }
    },
    {
      "cell_type": "markdown",
      "source": [
        "CNN의 장점\n",
        "\n",
        "\n",
        "*   Parameter sharing : 입력 이미지의 여러 위치에서 변수를 동일하게 사용 가능\n",
        "*   Sparsity of connections : 결과값이 특정 변수(위치)에 의해서만 영향을 받음(다른 변수의 영향은 받지 않음)\n",
        "\n",
        "\n",
        "\n"
      ],
      "metadata": {
        "id": "GYpqVwWap6wU"
      }
    },
    {
      "cell_type": "markdown",
      "source": [
        "# CNN Architecture"
      ],
      "metadata": {
        "id": "W9c4ouWN8ybp"
      }
    },
    {
      "cell_type": "markdown",
      "source": [],
      "metadata": {
        "id": "mzUmWB9D81_H"
      }
    },
    {
      "cell_type": "markdown",
      "source": [
        "# CNN 구현"
      ],
      "metadata": {
        "id": "T70YwNNsk4y3"
      }
    },
    {
      "cell_type": "markdown",
      "source": [
        "pytorch 를 이용해야 함"
      ],
      "metadata": {
        "id": "DETkbe0DFg8B"
      }
    },
    {
      "cell_type": "markdown",
      "source": [
        "아래의 문헌에서 코드를 따왔다. 우선 CNN이 코드로 어떻게 구현될 수 있는지, 그리고 구현되었는지를 명령 단위로 상세히 분석하기로 했다."
      ],
      "metadata": {
        "id": "cjZIslJeFjqM"
      }
    },
    {
      "cell_type": "markdown",
      "source": [
        "그 후, 직접 CNN을 구현해보는 수준까지 이르기로 한다."
      ],
      "metadata": {
        "id": "tAlEOx9S4_Iw"
      }
    },
    {
      "cell_type": "markdown",
      "source": [
        "* Conv layer"
      ],
      "metadata": {
        "id": "qlWo28IW9f4f"
      }
    },
    {
      "cell_type": "code",
      "source": [
        "import torch\n",
        "import torch.nn as nn\n",
        "import torch.nn.functional as F\n",
        "\n",
        "class CNN(nn.Module):\n",
        "  def __init__(self):\n",
        "    super(CNN, self).__init__()\n",
        "    \"\"\"각각의 conv 층 설계\"\"\"\n",
        "    # 입력을 받는 층(입력 채널 수 : 1, 출력 채널 수 : 3, 필터 크기 : 5, 스트라이드 수 : 1), 패딩은 없음\n",
        "    self.conv1 = nn.Conv2d(in_channels=1, out_channels=3, kernel_size=5, stride=1)\n",
        "    # 두번 째 층(입력 채널 수 : 3, 출력 채널 수 ; 10, ), 패딩은 없음. *이전 층의 출력 채널 수와 현재 층의 입력 채널 수가 동일*\n",
        "    self.conv2 = nn.Conv2d(in_channels=3, out_channels=10, kernel_size=5, stride=1)\n",
        "    # 완전 연결층 ?? 저 인자들이 어떻게 구체적으로 이런 수들이 나온 것인가?\n",
        "    self.fc1 = nn.Linear(10 * 12 * 12, 50)\n",
        "    self.fc2 = nn.Linear(50, 10)\n",
        "\n",
        "  def forward(self, x):\n",
        "    print(\"연산 전\", x.size())\n",
        "    # relu : conv 층 다음에 적용하는 것 (시그모이드 함수 비슷한 역할..)\n",
        "    x = F.relu(self.conv1(x))\n",
        "    print(\"conv1 연산 후\", x.size())\n",
        "    x = F.relu(self.conv2(x))\n",
        "    print(\"conv2 연산 후\",x.size())\n",
        "    x = x.view(-1, 10 * 12 * 12)\n",
        "    print(\"차원 감소 후\", x.size())\n",
        "    x = F.relu(self.fc1(x))\n",
        "    print(\"fc1 연산 후\", x.size())\n",
        "    x = self.fc2(x)\n",
        "    print(\"fc2 연산 후\", x.size())\n",
        "    return x\n",
        "\n",
        "cnn = CNN()\n",
        "output = cnn(torch.randn(10, 1, 20, 20))  # Input Size: (10, 1, 20, 20)"
      ],
      "metadata": {
        "colab": {
          "base_uri": "https://localhost:8080/"
        },
        "id": "dk5M2x9LvCs-",
        "outputId": "164216a7-ab61-4507-d4e1-6ac013a0312a"
      },
      "execution_count": 12,
      "outputs": [
        {
          "output_type": "stream",
          "name": "stdout",
          "text": [
            "연산 전 torch.Size([10, 1, 20, 20])\n",
            "conv1 연산 후 torch.Size([10, 3, 16, 16])\n",
            "conv2 연산 후 torch.Size([10, 10, 12, 12])\n",
            "차원 감소 후 torch.Size([10, 1440])\n",
            "fc1 연산 후 torch.Size([10, 50])\n",
            "fc2 연산 후 torch.Size([10, 10])\n"
          ]
        }
      ]
    },
    {
      "cell_type": "markdown",
      "source": [
        "\n",
        "\n",
        "*  Max pool layer\n",
        "\n"
      ],
      "metadata": {
        "id": "X0mEOlGM9Zsj"
      }
    },
    {
      "cell_type": "code",
      "source": [
        "import torch\n",
        "import torch.nn as nn\n",
        "import torch.nn.functional as F\n",
        "\n",
        "class CNN(nn.Module):\n",
        "  def __init__(self):\n",
        "    super(CNN, self).__init__()\n",
        "    \"\"\"max pool 층 설계\"\"\"\n",
        "    #채널의 수는 건들이지 않고, 데이터의 wieght와 height가 절반으로 줄도록 커널 사이즈를 설정함\n",
        "    self.max_pool1 = nn.MaxPool2d(kernel_size=2)\n",
        "    self.max_pool2 = nn.MaxPool2d(kernel_size=2)\n",
        "    self.fc1 = nn.Linear(10 * 5 * 5, 50)\n",
        "    self.fc2 = nn.Linear(50, 10)\n",
        "\n",
        "  def forward(self, x):\n",
        "    print(\"연산 전\", x.size())\n",
        "    x = F.relu(self.max_pool1(x))\n",
        "    print(\"max_pool1 연산 후\", x.size())\n",
        "    x = F.relu(self.max_pool2(x))\n",
        "    print(\"max_pool2 연산 후\",x.size())\n",
        "    x = x.view(-1, 10 * 5 * 5)\n",
        "    print(\"차원 감소 후\", x.size())\n",
        "    x = F.relu(self.fc1(x))\n",
        "    print(\"fc1 연산 후\", x.size())\n",
        "    x = self.fc2(x)\n",
        "    print(\"fc2 연산 후\", x.size())\n",
        "    return x\n",
        "\n",
        "cnn = CNN()\n",
        "output = cnn(torch.randn(10, 1, 20, 20))"
      ],
      "metadata": {
        "colab": {
          "base_uri": "https://localhost:8080/"
        },
        "id": "i-qMOh5l8tTz",
        "outputId": "d946319a-2ba2-4c21-bb37-a64feba15542"
      },
      "execution_count": 13,
      "outputs": [
        {
          "output_type": "stream",
          "name": "stdout",
          "text": [
            "연산 전 torch.Size([10, 1, 20, 20])\n",
            "max_pool1 연산 후 torch.Size([10, 1, 10, 10])\n",
            "max_pool2 연산 후 torch.Size([10, 1, 5, 5])\n",
            "차원 감소 후 torch.Size([1, 250])\n",
            "fc1 연산 후 torch.Size([1, 50])\n",
            "fc2 연산 후 torch.Size([1, 10])\n"
          ]
        }
      ]
    },
    {
      "cell_type": "markdown",
      "source": [
        "위의 코드를 통해, 구현해낸 CNN 클래스가 실제로 layer를 거친 후, 데이터의 tensor? 가 어떻게 변화되는지를 확인할 수 있다.\n"
      ],
      "metadata": {
        "id": "SacFvOfn5dNW"
      }
    },
    {
      "cell_type": "markdown",
      "source": [
        "MNIST 데이터셋 학습"
      ],
      "metadata": {
        "id": "RoqxgnmaZX__"
      }
    },
    {
      "cell_type": "code",
      "source": [
        "import torch\n",
        "import torch.nn as nn\n",
        "import torch.nn.functional as F\n",
        "import torch.optim as optim\n",
        "from torchvision import datasets, transforms"
      ],
      "metadata": {
        "id": "5ozIksrVZkus"
      },
      "execution_count": 3,
      "outputs": []
    },
    {
      "cell_type": "markdown",
      "source": [
        "데이터셋 설정"
      ],
      "metadata": {
        "id": "3Y0l6nxsHj7B"
      }
    },
    {
      "cell_type": "code",
      "source": [
        "train_data = datasets.MNIST('./data/', train=True, download=True, transform=transforms.Compose([\n",
        "        transforms.ToTensor(),\n",
        "        transforms.Normalize((0.1307,), (0.3081,))\n",
        "    ])) # 학습 데이터\n",
        "train_loader = torch.utils.data.DataLoader(dataset=train_data, batch_size=50, shuffle=True)\n",
        "\n",
        "test_data = datasets.MNIST('./data/', train=False, transform=transforms.Compose([\n",
        "        transforms.ToTensor(),\n",
        "        transforms.Normalize((0.1307,), (0.3081,))\n",
        "    ])) # 테스트 데이터\n",
        "test_loader = torch.utils.data.DataLoader(dataset=test_data, batch_size=50, shuffle=True)"
      ],
      "metadata": {
        "id": "GfjgvopuZrrJ"
      },
      "execution_count": null,
      "outputs": []
    },
    {
      "cell_type": "markdown",
      "source": [
        "CNN 모듈 구현"
      ],
      "metadata": {
        "id": "t-1GzC4dHn3S"
      }
    },
    {
      "cell_type": "code",
      "source": [
        "class CNN(nn.Module):\n",
        "    def __init__(self):\n",
        "        super(CNN, self).__init__()\n",
        "        self.conv1 = nn.Conv2d(in_channels=1, out_channels=20, kernel_size=5, stride=1)\n",
        "        self.conv2 = nn.Conv2d(in_channels=20, out_channels=50, kernel_size=5, stride=1)\n",
        "        self.fc1 = nn.Linear(4 * 4 * 50, 500)\n",
        "        self.fc2 = nn.Linear(500, 10)\n",
        "#max_pool 층은 따로 밖에 구현되어 있는 이유는 생성자와 관련..?\n",
        "\n",
        "    def forward(self, x):\n",
        "        \"\"\" 하나의 층에서 일어나는 일 \"\"\"\n",
        "        #conv층 -> relu -> max_pool층\n",
        "        x = F.relu(self.conv1(x))\n",
        "        x = F.max_pool2d(x, kernel_size=2, stride=2)\n",
        "\n",
        "        x = F.relu(self.conv2(x))\n",
        "        x = F.max_pool2d(x, kernel_size=2, stride=2)\n",
        "\n",
        "        x = x.view(-1, 4 * 4 * 50) # [batch_size, 50, 4, 4]\n",
        "        x = F.relu(self.fc1(x))\n",
        "        x = self.fc2(x)\n",
        "        return x"
      ],
      "metadata": {
        "id": "kJlrVw5kZwcu"
      },
      "execution_count": 5,
      "outputs": []
    },
    {
      "cell_type": "code",
      "source": [
        "cnn = CNN()\n",
        "criterion = torch.nn.CrossEntropyLoss()\n",
        "optimizer = optim.SGD(cnn.parameters(), lr=0.01)"
      ],
      "metadata": {
        "id": "B4eZaFstZ0Jh"
      },
      "execution_count": 6,
      "outputs": []
    },
    {
      "cell_type": "markdown",
      "source": [
        "학습시키는 부분\n",
        "*   10번 학습 시킨다..?\n",
        "*   한번의 반복문 마다 train_loader에서 data를 가져오고 그것을 cnn에 넣는다\n",
        "*   학습 결과를 criterion이라는 함수를 통해 손실을 계산하고, 해당 손실을 통해 역전파? 를 거친다\n",
        "*   그 후, 최적화? 를 거친다\n",
        "\n"
      ],
      "metadata": {
        "id": "-2uUySq6OPWa"
      }
    },
    {
      "cell_type": "code",
      "source": [
        "cnn.train()  # 학습을 위함\n",
        "for epoch in range(10):\n",
        "  for index, (data, target) in enumerate(train_loader):\n",
        "    optimizer.zero_grad()  # 기울기 초기화\n",
        "    output = cnn(data)\n",
        "    loss = criterion(output, target) # 오차 검출\n",
        "    loss.backward()  # 역전파\n",
        "    optimizer.step() # 최적화..?\n",
        "\n",
        "    if index % 100 == 0:\n",
        "      print(\"loss of {} epoch, {} index : {}\".format(epoch, index, loss.item()))"
      ],
      "metadata": {
        "id": "GFRFYxwFZ6aP"
      },
      "execution_count": null,
      "outputs": []
    },
    {
      "cell_type": "markdown",
      "source": [
        "테스트시키는 부분"
      ],
      "metadata": {
        "id": "l7W7PJkzQh2X"
      }
    },
    {
      "cell_type": "code",
      "source": [
        "cnn.eval()  # test case 학습 방지를 위함\n",
        "test_loss = 0\n",
        "correct = 0\n",
        "with torch.no_grad():\n",
        "  for data, target in test_loader:\n",
        "    output = cnn(data)\n",
        "    test_loss += criterion(output, target).item() # sum up batch loss\n",
        "    pred = output.argmax(dim=1, keepdim=True) # get the index of the max log-probability\n",
        "    correct += pred.eq(target.view_as(pred)).sum().item()\n",
        "print('\\nTest set: Average loss: {:.4f}, Accuracy: {}/{} ({:.0f}%)\\n'.format(\n",
        "        test_loss, correct, len(test_loader.dataset),\n",
        "        100. * correct / len(test_loader.dataset)))"
      ],
      "metadata": {
        "colab": {
          "base_uri": "https://localhost:8080/"
        },
        "id": "e1DBZFicZ9cp",
        "outputId": "21d11d48-a884-4cbf-c605-9273d6602ec6"
      },
      "execution_count": 8,
      "outputs": [
        {
          "output_type": "stream",
          "name": "stdout",
          "text": [
            "\n",
            "Test set: Average loss: 7.5824, Accuracy: 9866/10000 (99%)\n",
            "\n"
          ]
        }
      ]
    },
    {
      "cell_type": "markdown",
      "source": [
        "의문점\n",
        "\n",
        "\n",
        "*   어느 모델을 이용해야 하는가? (다양한 net이 존재함)\n",
        "*   구현 방법을 구체화하지 못하겠다\n",
        "*   어떤 필터를 얼마나, 또 층은 얼마나 설계해야 하는 것인가? (혹시 이것이 모델의 선정과 관련되어 있는 일인가? 그렇다면 어느 모델을 선택해야 할까? 우리가 하는 작업과 최적화된 모델을 선택하는 것인가, 아니면 최신 성능의 모델을 사용하면 되는 것일까?)\n",
        "*   다음 함수들의 역할\n",
        "  *   criterion(output, target)\n",
        "  *   loss.backward() (loss는 변수명임)\n",
        "  *   optimizer.step()\n"
      ],
      "metadata": {
        "id": "r6Pf7ADU2vnv"
      }
    },
    {
      "cell_type": "markdown",
      "source": [
        "개념을 다시 확실히 짚고 넘어가야할 것들\n",
        "*   Parameter의 수\n",
        "*   구체적으로 stride와 kernel size를 어떻게 계산해 값을 설정하는지에 대한 수식\n",
        "*   Fc 층의 역할, 그리고 relu의 역할에 대해서만 간단히 알고 넘어가기 (적어도 왜 쓰이는지만)"
      ],
      "metadata": {
        "id": "6ippFt9GDt8H"
      }
    },
    {
      "cell_type": "markdown",
      "source": [
        "# References"
      ],
      "metadata": {
        "id": "EEJMsbRUk1eS"
      }
    },
    {
      "cell_type": "markdown",
      "source": [
        "https://justkode.kr/deep-learning/pytorch-cnn/\n"
      ],
      "metadata": {
        "id": "u9_HeIub4rrS"
      }
    }
  ]
}